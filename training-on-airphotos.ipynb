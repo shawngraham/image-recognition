{
 "cells": [
  {
   "cell_type": "markdown",
   "metadata": {},
   "source": [
    "# Training a model on the Cambridge Air Photos Collection\n",
    "\n",
    "This notebook uses the [Tensorflow for poets](https://codelabs.developers.google.com/codelabs/tensorflow-for-poets/) tutorial to train a new model for classifying images in the Tribune collection.\n",
    "\n",
    "First we'll clone the code repository."
   ]
  },
  {
   "cell_type": "code",
   "execution_count": 1,
   "metadata": {},
   "outputs": [
    {
     "name": "stdout",
     "output_type": "stream",
     "text": [
      "Cloning into 'tensorflow-for-poets-2'...\n",
      "remote: Enumerating objects: 417, done.\u001b[K\n",
      "remote: Total 417 (delta 0), reused 0 (delta 0), pack-reused 417\u001b[K\n",
      "Receiving objects: 100% (417/417), 33.97 MiB | 14.18 MiB/s, done.\n",
      "Resolving deltas: 100% (155/155), done.\n",
      "Checking out files: 100% (142/142), done.\n"
     ]
    }
   ],
   "source": [
    "!git clone https://github.com/googlecodelabs/tensorflow-for-poets-2"
   ]
  },
  {
   "cell_type": "markdown",
   "metadata": {},
   "source": [
    "Now let's move into the new directory"
   ]
  },
  {
   "cell_type": "code",
   "execution_count": 2,
   "metadata": {},
   "outputs": [
    {
     "name": "stdout",
     "output_type": "stream",
     "text": [
      "/home/jovyan/tensorflow-for-poets-2\n"
     ]
    }
   ],
   "source": [
    "cd tensorflow-for-poets-2"
   ]
  },
  {
   "cell_type": "markdown",
   "metadata": {},
   "source": [
    "## Our categories\n",
    "\n",
    "For our initial experiment we're going to try and distinguish between two categories — protests and portraits."
   ]
  },
  {
   "cell_type": "code",
   "execution_count": 3,
   "metadata": {},
   "outputs": [],
   "source": [
    "img_sets = {\n",
    "    'protests': ['FL4520808', 'FL4520807', 'FL4520809', 'FL4520810', 'FL4520811', 'FL4520812', 'FL4520813', 'FL4520814', 'FL4520816', 'FL4520817', 'FL4520818', 'FL4520820', 'FL4520821', 'FL4520822', 'FL4520823', 'FL4520825', 'FL4520826', 'FL4520827', 'FL4520828', 'FL4520829', 'FL4520830', 'FL4520832', 'FL4520833', 'FL4520834', 'FL4520835', 'FL4520836', 'FL4562467', 'FL4562470', 'FL4562473', 'FL4562477', 'FL4562493', 'FL4562496', 'FL4562498', 'FL4562502', 'FL4562504', 'FL4562506', 'FL4562507', 'FL4562514', 'FL4562526', 'FL4562531', 'FL4562534', 'FL4562538', 'FL4562543', 'FL4562548', 'FL4431373', 'FL4431375', 'FL4431376', 'FL4431377', 'FL4431405', 'FL4431403', 'FL4534782','FL4534784','FL4534786','FL4534787','FL4534789','FL4548906','FL4548908','FL4548910','FL4548914','FL4548915','FL4548916','FL4548918','FL4548919','FL4548920','FL4548924','FL4581459','FL4581460','FL4581461','FL4581462','FL4581463','FL4581468','FL4581469','FL4581470','FL4581471','FL4581473','FL4581474','FL4581475','FL4581477','FL4581478','FL4581481','FL4544430','FL4544432','FL4544435','FL4544437','FL4544438','FL4544439','FL4544441','FL4544448','FL4528139','FL4528140','FL4528141','FL4528142','FL4528143','FL4528144','FL4527324','FL4527326','FL4527329','FL4527333','FL4527335','FL4530238'],\n",
    "    'portraits': ['FL4549209', 'FL4564140', 'FL4549684', 'FL4545567', 'FL4488477', 'FL4545569', 'FL4534794', 'FL4510388', 'FL4513567', 'FL4513591', 'FL4513594', 'FL4468261', 'FL4531198', 'FL4531240', 'FL4517378', 'FL4517384', 'FL4529746', 'FL4512049', 'FL4512055', 'FL4485185', 'FL4487605', 'FL4487592', 'FL4485540', 'FL4484944', 'FL4484950', 'FL4481774', 'FL4481787', 'FL4478835', 'FL4486661', 'FL4486662', 'FL4474330', 'FL4474354', 'FL4480349', 'FL4480384', 'FL4486300', 'FL4473256', 'FL4474185', 'FL4474152', 'FL4479422', 'FL4479449', 'FL4474018', 'FL4472433', 'FL4479794', 'FL4466608', 'FL4466614', 'FL4450989', 'FL4489424', 'FL4480459', 'FL4588049', 'FL4492349', 'FL4502482', 'FL4491527', 'FL4444441', 'FL4490697', 'FL4433631', 'FL4434468', 'FL4430650', 'FL4430652', 'FL4468274', 'FL4529677', 'FL4532361', 'FL4495950', 'FL8797006', 'FL4522775', 'FL4517556', 'FL4517563', 'FL4518600', 'FL4515829', 'FL4515847', 'FL4519602', 'FL4424262', 'FL4424263', 'FL4424264', 'FL4424278', 'FL4424279', 'FL4588015', 'FL4588016', 'FL4588017', 'FL4537870', 'FL4537872', 'FL4537873', 'FL4537874', 'FL4537878', 'FL4537880', 'FL4537881', 'FL4537882', 'FL4537883', 'FL4537888', 'FL4537889', 'FL4537891', 'FL4537895', 'FL4537896', 'FL4537897', 'FL4537899', 'FL4537902', 'FL4537906', 'FL4537907', 'FL4537909', 'FL4537911', 'FL4540963', 'FL4540964', 'FL4540966', 'FL4540970', 'FL4540972', 'FL4540973', 'FL4540975', 'FL4539968', 'FL4539969', 'FL4539970', 'FL4539971', 'FL4539972', 'FL4539974', 'FL4539988', 'FL4539989', 'FL4490339', 'FL4538816', 'FL4538817', 'FL4538818', 'FL4538825', 'FL4538826', 'FL4538827', 'FL4538828', 'FL4538829', 'FL4538838', 'FL4538839', 'FL4538840', 'FL4538841']\n",
    "}"
   ]
  },
  {
   "cell_type": "markdown",
   "metadata": {},
   "source": [
    "Download the training images."
   ]
  },
  {
   "cell_type": "code",
   "execution_count": 4,
   "metadata": {},
   "outputs": [
    {
     "data": {
      "application/vnd.jupyter.widget-view+json": {
       "model_id": "fe4a5f77345e4244ab7995d95d1087e7",
       "version_major": 2,
       "version_minor": 0
      },
      "text/plain": [
       "HBox(children=(IntProgress(value=0), HTML(value='')))"
      ]
     },
     "metadata": {},
     "output_type": "display_data"
    },
    {
     "name": "stdout",
     "output_type": "stream",
     "text": [
      "\n"
     ]
    },
    {
     "data": {
      "application/vnd.jupyter.widget-view+json": {
       "model_id": "9690ebf12b4e41fa9c528aab821bfd9c",
       "version_major": 2,
       "version_minor": 0
      },
      "text/plain": [
       "HBox(children=(IntProgress(value=0, max=127), HTML(value='')))"
      ]
     },
     "metadata": {},
     "output_type": "display_data"
    },
    {
     "name": "stdout",
     "output_type": "stream",
     "text": [
      "\n"
     ]
    }
   ],
   "source": [
    "import os\n",
    "from urllib.parse import urlparse\n",
    "from tqdm import tqdm_notebook\n",
    "import requests\n",
    "# Download training images\n",
    "for img_set in ['protests', 'portraits']:\n",
    "    img_dir = os.path.join('tf_files', 'tribune', img_set)\n",
    "    os.makedirs(img_dir, exist_ok=True)\n",
    "    for img in tqdm_notebook(img_sets[img_set]):\n",
    "        img_url = 'https://s3-ap-southeast-2.amazonaws.com/wraggetribune/images/500/{0}-500.jpg'.format(img)\n",
    "        parsed = urlparse(img_url)\n",
    "        filename = os.path.join(img_dir, os.path.basename(parsed.path))\n",
    "        response = requests.get(img_url, stream=True)\n",
    "        with open(filename, 'wb') as fd:\n",
    "            for chunk in response.iter_content(chunk_size=128):\n",
    "                fd.write(chunk)"
   ]
  },
  {
   "cell_type": "code",
   "execution_count": 37,
   "metadata": {},
   "outputs": [
    {
     "name": "stdout",
     "output_type": "stream",
     "text": [
      "\u001b[0m\u001b[01;34mearthworks\u001b[0m/  \u001b[01;34mnature_reserve\u001b[0m/  \u001b[01;34mportraits\u001b[0m/  \u001b[01;34mprotests\u001b[0m/\r\n"
     ]
    }
   ],
   "source": [
    "ls tf_files/tribune"
   ]
  },
  {
   "cell_type": "markdown",
   "metadata": {},
   "source": [
    "Run this in a terminal, Jupyter doesn't allow background processes...\n",
    "\n",
    "I'm assuming this won't be possible on Binder?\n",
    "\n",
    "```\n",
    "tensorboard --logdir tf_files/training_summaries &\n",
    "```"
   ]
  },
  {
   "cell_type": "markdown",
   "metadata": {},
   "source": [
    "## Train the model"
   ]
  },
  {
   "cell_type": "code",
   "execution_count": 38,
   "metadata": {},
   "outputs": [
    {
     "name": "stderr",
     "output_type": "stream",
     "text": [
      "INFO:tensorflow:Looking for images in '.ipynb_checkpoints'\n",
      "WARNING:tensorflow:No files found\n",
      "INFO:tensorflow:Looking for images in 'earthworks'\n",
      "INFO:tensorflow:Looking for images in 'nature_reserve'\n",
      "INFO:tensorflow:Looking for images in 'portraits'\n",
      "INFO:tensorflow:Looking for images in 'protests'\n",
      "2019-03-05 02:19:29.639171: I tensorflow/core/platform/cpu_feature_guard.cc:141] Your CPU supports instructions that this TensorFlow binary was not compiled to use: AVX2 FMA\n",
      "INFO:tensorflow:100 bottleneck files created.\n",
      "INFO:tensorflow:Creating bottleneck at tf_files/bottlenecks/nature_reserve/aae95.jpg_mobilenet_0.50_224.txt\n",
      "INFO:tensorflow:Creating bottleneck at tf_files/bottlenecks/nature_reserve/aah81.jpg_mobilenet_0.50_224.txt\n",
      "INFO:tensorflow:Creating bottleneck at tf_files/bottlenecks/nature_reserve/aag71.jpg_mobilenet_0.50_224.txt\n",
      "INFO:tensorflow:Creating bottleneck at tf_files/bottlenecks/nature_reserve/aag77.jpg_mobilenet_0.50_224.txt\n",
      "INFO:tensorflow:Creating bottleneck at tf_files/bottlenecks/nature_reserve/aag33.jpg_mobilenet_0.50_224.txt\n",
      "INFO:tensorflow:Creating bottleneck at tf_files/bottlenecks/nature_reserve/aar24.jpg_mobilenet_0.50_224.txt\n",
      "INFO:tensorflow:Creating bottleneck at tf_files/bottlenecks/nature_reserve/70h-x37.jpg_mobilenet_0.50_224.txt\n",
      "INFO:tensorflow:Creating bottleneck at tf_files/bottlenecks/nature_reserve/aah86.jpg_mobilenet_0.50_224.txt\n",
      "INFO:tensorflow:Creating bottleneck at tf_files/bottlenecks/nature_reserve/aag75.jpg_mobilenet_0.50_224.txt\n",
      "INFO:tensorflow:Creating bottleneck at tf_files/bottlenecks/nature_reserve/aah84.jpg_mobilenet_0.50_224.txt\n",
      "INFO:tensorflow:Creating bottleneck at tf_files/bottlenecks/nature_reserve/aak10.jpg_mobilenet_0.50_224.txt\n",
      "INFO:tensorflow:Creating bottleneck at tf_files/bottlenecks/nature_reserve/aag76.jpg_mobilenet_0.50_224.txt\n",
      "INFO:tensorflow:Creating bottleneck at tf_files/bottlenecks/nature_reserve/aah92.jpg_mobilenet_0.50_224.txt\n",
      "INFO:tensorflow:Creating bottleneck at tf_files/bottlenecks/nature_reserve/aak16.jpg_mobilenet_0.50_224.txt\n",
      "INFO:tensorflow:Creating bottleneck at tf_files/bottlenecks/nature_reserve/aag26.jpg_mobilenet_0.50_224.txt\n",
      "INFO:tensorflow:Creating bottleneck at tf_files/bottlenecks/nature_reserve/aak14.jpg_mobilenet_0.50_224.txt\n",
      "INFO:tensorflow:Creating bottleneck at tf_files/bottlenecks/nature_reserve/aah82.jpg_mobilenet_0.50_224.txt\n",
      "INFO:tensorflow:Creating bottleneck at tf_files/bottlenecks/nature_reserve/aar31.jpg_mobilenet_0.50_224.txt\n",
      "INFO:tensorflow:Creating bottleneck at tf_files/bottlenecks/nature_reserve/aar25.jpg_mobilenet_0.50_224.txt\n",
      "INFO:tensorflow:Creating bottleneck at tf_files/bottlenecks/nature_reserve/aag28.jpg_mobilenet_0.50_224.txt\n",
      "INFO:tensorflow:Creating bottleneck at tf_files/bottlenecks/nature_reserve/aar17.jpg_mobilenet_0.50_224.txt\n",
      "INFO:tensorflow:Creating bottleneck at tf_files/bottlenecks/nature_reserve/aag32.jpg_mobilenet_0.50_224.txt\n",
      "INFO:tensorflow:Creating bottleneck at tf_files/bottlenecks/nature_reserve/aag78.jpg_mobilenet_0.50_224.txt\n",
      "INFO:tensorflow:Creating bottleneck at tf_files/bottlenecks/nature_reserve/aag79.jpg_mobilenet_0.50_224.txt\n",
      "INFO:tensorflow:Creating bottleneck at tf_files/bottlenecks/nature_reserve/aar20.jpg_mobilenet_0.50_224.txt\n",
      "INFO:tensorflow:Creating bottleneck at tf_files/bottlenecks/nature_reserve/aak15.jpg_mobilenet_0.50_224.txt\n",
      "INFO:tensorflow:Creating bottleneck at tf_files/bottlenecks/nature_reserve/aah80.jpg_mobilenet_0.50_224.txt\n",
      "INFO:tensorflow:Creating bottleneck at tf_files/bottlenecks/nature_reserve/aag72.jpg_mobilenet_0.50_224.txt\n",
      "INFO:tensorflow:Creating bottleneck at tf_files/bottlenecks/nature_reserve/aah90.jpg_mobilenet_0.50_224.txt\n",
      "INFO:tensorflow:Creating bottleneck at tf_files/bottlenecks/nature_reserve/aag74.jpg_mobilenet_0.50_224.txt\n",
      "INFO:tensorflow:Creating bottleneck at tf_files/bottlenecks/nature_reserve/aah89.jpg_mobilenet_0.50_224.txt\n",
      "INFO:tensorflow:Creating bottleneck at tf_files/bottlenecks/nature_reserve/aag29.jpg_mobilenet_0.50_224.txt\n",
      "INFO:tensorflow:Creating bottleneck at tf_files/bottlenecks/nature_reserve/70h-x35.jpg_mobilenet_0.50_224.txt\n",
      "INFO:tensorflow:Creating bottleneck at tf_files/bottlenecks/nature_reserve/aah87.jpg_mobilenet_0.50_224.txt\n",
      "INFO:tensorflow:Creating bottleneck at tf_files/bottlenecks/nature_reserve/70h-x36.jpg_mobilenet_0.50_224.txt\n",
      "INFO:tensorflow:Creating bottleneck at tf_files/bottlenecks/nature_reserve/aak13.jpg_mobilenet_0.50_224.txt\n",
      "INFO:tensorflow:Creating bottleneck at tf_files/bottlenecks/nature_reserve/aag80.jpg_mobilenet_0.50_224.txt\n",
      "INFO:tensorflow:Creating bottleneck at tf_files/bottlenecks/nature_reserve/aah91.jpg_mobilenet_0.50_224.txt\n",
      "INFO:tensorflow:Creating bottleneck at tf_files/bottlenecks/nature_reserve/aag30.jpg_mobilenet_0.50_224.txt\n",
      "INFO:tensorflow:Creating bottleneck at tf_files/bottlenecks/nature_reserve/aah79.jpg_mobilenet_0.50_224.txt\n",
      "INFO:tensorflow:Creating bottleneck at tf_files/bottlenecks/nature_reserve/aak11.jpg_mobilenet_0.50_224.txt\n",
      "INFO:tensorflow:Creating bottleneck at tf_files/bottlenecks/nature_reserve/aak12.jpg_mobilenet_0.50_224.txt\n",
      "INFO:tensorflow:Creating bottleneck at tf_files/bottlenecks/nature_reserve/aag25.jpg_mobilenet_0.50_224.txt\n",
      "INFO:tensorflow:Creating bottleneck at tf_files/bottlenecks/nature_reserve/aar28.jpg_mobilenet_0.50_224.txt\n",
      "INFO:tensorflow:Creating bottleneck at tf_files/bottlenecks/nature_reserve/aag27.jpg_mobilenet_0.50_224.txt\n",
      "INFO:tensorflow:Creating bottleneck at tf_files/bottlenecks/nature_reserve/aar27.jpg_mobilenet_0.50_224.txt\n",
      "INFO:tensorflow:Creating bottleneck at tf_files/bottlenecks/nature_reserve/aar32.jpg_mobilenet_0.50_224.txt\n",
      "INFO:tensorflow:Creating bottleneck at tf_files/bottlenecks/nature_reserve/aah88.jpg_mobilenet_0.50_224.txt\n",
      "INFO:tensorflow:Creating bottleneck at tf_files/bottlenecks/nature_reserve/aar19.jpg_mobilenet_0.50_224.txt\n",
      "INFO:tensorflow:Creating bottleneck at tf_files/bottlenecks/nature_reserve/aar29.jpg_mobilenet_0.50_224.txt\n",
      "INFO:tensorflow:200 bottleneck files created.\n",
      "INFO:tensorflow:Creating bottleneck at tf_files/bottlenecks/nature_reserve/aah83.jpg_mobilenet_0.50_224.txt\n",
      "INFO:tensorflow:Creating bottleneck at tf_files/bottlenecks/nature_reserve/aak18.jpg_mobilenet_0.50_224.txt\n",
      "INFO:tensorflow:Creating bottleneck at tf_files/bottlenecks/nature_reserve/aar18.jpg_mobilenet_0.50_224.txt\n",
      "INFO:tensorflow:Creating bottleneck at tf_files/bottlenecks/nature_reserve/aah85.jpg_mobilenet_0.50_224.txt\n",
      "INFO:tensorflow:Creating bottleneck at tf_files/bottlenecks/nature_reserve/aag70.jpg_mobilenet_0.50_224.txt\n",
      "INFO:tensorflow:Creating bottleneck at tf_files/bottlenecks/nature_reserve/aar26.jpg_mobilenet_0.50_224.txt\n",
      "INFO:tensorflow:Creating bottleneck at tf_files/bottlenecks/nature_reserve/aag73.jpg_mobilenet_0.50_224.txt\n",
      "INFO:tensorflow:Creating bottleneck at tf_files/bottlenecks/nature_reserve/aag24.jpg_mobilenet_0.50_224.txt\n",
      "INFO:tensorflow:Creating bottleneck at tf_files/bottlenecks/nature_reserve/aah78.jpg_mobilenet_0.50_224.txt\n",
      "INFO:tensorflow:Creating bottleneck at tf_files/bottlenecks/nature_reserve/aak17.jpg_mobilenet_0.50_224.txt\n",
      "INFO:tensorflow:300 bottleneck files created.\n",
      "INFO:tensorflow:400 bottleneck files created.\n",
      "WARNING:tensorflow:From /home/jovyan/tensorflow-for-poets-2/scripts/retrain.py:790: softmax_cross_entropy_with_logits (from tensorflow.python.ops.nn_ops) is deprecated and will be removed in a future version.\n",
      "Instructions for updating:\n",
      "\n",
      "Future major versions of TensorFlow will allow gradients to flow\n",
      "into the labels input on backprop by default.\n",
      "\n",
      "See `tf.nn.softmax_cross_entropy_with_logits_v2`.\n",
      "\n",
      "INFO:tensorflow:2019-03-05 02:20:16.510568: Step 0: Train accuracy = 95.0%\n",
      "INFO:tensorflow:2019-03-05 02:20:16.510813: Step 0: Cross entropy = 0.208777\n",
      "INFO:tensorflow:2019-03-05 02:20:17.644413: Step 0: Validation accuracy = 82.0% (N=100)\n",
      "INFO:tensorflow:2019-03-05 02:20:18.271698: Step 10: Train accuracy = 83.0%\n",
      "INFO:tensorflow:2019-03-05 02:20:18.271990: Step 10: Cross entropy = 0.625898\n",
      "INFO:tensorflow:2019-03-05 02:20:18.338665: Step 10: Validation accuracy = 80.0% (N=100)\n",
      "INFO:tensorflow:2019-03-05 02:20:18.835220: Step 20: Train accuracy = 98.0%\n",
      "INFO:tensorflow:2019-03-05 02:20:18.835467: Step 20: Cross entropy = 0.062376\n",
      "INFO:tensorflow:2019-03-05 02:20:18.895539: Step 20: Validation accuracy = 95.0% (N=100)\n",
      "INFO:tensorflow:2019-03-05 02:20:19.387761: Step 30: Train accuracy = 98.0%\n",
      "INFO:tensorflow:2019-03-05 02:20:19.388038: Step 30: Cross entropy = 0.050892\n",
      "INFO:tensorflow:2019-03-05 02:20:19.437266: Step 30: Validation accuracy = 89.0% (N=100)\n",
      "INFO:tensorflow:2019-03-05 02:20:19.971282: Step 40: Train accuracy = 99.0%\n",
      "INFO:tensorflow:2019-03-05 02:20:19.971518: Step 40: Cross entropy = 0.055807\n",
      "INFO:tensorflow:2019-03-05 02:20:20.018901: Step 40: Validation accuracy = 91.0% (N=100)\n",
      "INFO:tensorflow:2019-03-05 02:20:20.487031: Step 50: Train accuracy = 100.0%\n",
      "INFO:tensorflow:2019-03-05 02:20:20.487247: Step 50: Cross entropy = 0.032700\n",
      "INFO:tensorflow:2019-03-05 02:20:20.536716: Step 50: Validation accuracy = 88.0% (N=100)\n",
      "INFO:tensorflow:2019-03-05 02:20:20.988739: Step 60: Train accuracy = 99.0%\n",
      "INFO:tensorflow:2019-03-05 02:20:20.988953: Step 60: Cross entropy = 0.031180\n",
      "INFO:tensorflow:2019-03-05 02:20:21.035742: Step 60: Validation accuracy = 89.0% (N=100)\n",
      "INFO:tensorflow:2019-03-05 02:20:21.562053: Step 70: Train accuracy = 100.0%\n",
      "INFO:tensorflow:2019-03-05 02:20:21.562322: Step 70: Cross entropy = 0.024344\n",
      "INFO:tensorflow:2019-03-05 02:20:21.607884: Step 70: Validation accuracy = 95.0% (N=100)\n",
      "INFO:tensorflow:2019-03-05 02:20:22.137973: Step 80: Train accuracy = 100.0%\n",
      "INFO:tensorflow:2019-03-05 02:20:22.138162: Step 80: Cross entropy = 0.028387\n",
      "INFO:tensorflow:2019-03-05 02:20:22.178929: Step 80: Validation accuracy = 95.0% (N=100)\n",
      "INFO:tensorflow:2019-03-05 02:20:22.649019: Step 90: Train accuracy = 100.0%\n",
      "INFO:tensorflow:2019-03-05 02:20:22.649220: Step 90: Cross entropy = 0.027179\n",
      "INFO:tensorflow:2019-03-05 02:20:22.693009: Step 90: Validation accuracy = 96.0% (N=100)\n",
      "INFO:tensorflow:2019-03-05 02:20:23.175475: Step 100: Train accuracy = 100.0%\n",
      "INFO:tensorflow:2019-03-05 02:20:23.175728: Step 100: Cross entropy = 0.011180\n",
      "INFO:tensorflow:2019-03-05 02:20:23.239112: Step 100: Validation accuracy = 94.0% (N=100)\n",
      "INFO:tensorflow:2019-03-05 02:20:23.718277: Step 110: Train accuracy = 100.0%\n",
      "INFO:tensorflow:2019-03-05 02:20:23.718467: Step 110: Cross entropy = 0.016897\n",
      "INFO:tensorflow:2019-03-05 02:20:23.765066: Step 110: Validation accuracy = 97.0% (N=100)\n",
      "INFO:tensorflow:2019-03-05 02:20:24.309425: Step 120: Train accuracy = 100.0%\n",
      "INFO:tensorflow:2019-03-05 02:20:24.309659: Step 120: Cross entropy = 0.014429\n",
      "INFO:tensorflow:2019-03-05 02:20:24.373207: Step 120: Validation accuracy = 96.0% (N=100)\n",
      "INFO:tensorflow:2019-03-05 02:20:24.955630: Step 130: Train accuracy = 100.0%\n",
      "INFO:tensorflow:2019-03-05 02:20:24.955920: Step 130: Cross entropy = 0.008739\n",
      "INFO:tensorflow:2019-03-05 02:20:24.998754: Step 130: Validation accuracy = 96.0% (N=100)\n",
      "INFO:tensorflow:2019-03-05 02:20:25.572195: Step 140: Train accuracy = 100.0%\n",
      "INFO:tensorflow:2019-03-05 02:20:25.572444: Step 140: Cross entropy = 0.010782\n",
      "INFO:tensorflow:2019-03-05 02:20:25.626878: Step 140: Validation accuracy = 96.0% (N=100)\n",
      "INFO:tensorflow:2019-03-05 02:20:26.119126: Step 150: Train accuracy = 100.0%\n",
      "INFO:tensorflow:2019-03-05 02:20:26.119313: Step 150: Cross entropy = 0.010284\n",
      "INFO:tensorflow:2019-03-05 02:20:26.166485: Step 150: Validation accuracy = 96.0% (N=100)\n",
      "INFO:tensorflow:2019-03-05 02:20:26.657430: Step 160: Train accuracy = 100.0%\n",
      "INFO:tensorflow:2019-03-05 02:20:26.657621: Step 160: Cross entropy = 0.008257\n",
      "INFO:tensorflow:2019-03-05 02:20:26.698903: Step 160: Validation accuracy = 95.0% (N=100)\n",
      "INFO:tensorflow:2019-03-05 02:20:27.161697: Step 170: Train accuracy = 100.0%\n",
      "INFO:tensorflow:2019-03-05 02:20:27.161977: Step 170: Cross entropy = 0.008374\n",
      "INFO:tensorflow:2019-03-05 02:20:27.213100: Step 170: Validation accuracy = 99.0% (N=100)\n",
      "INFO:tensorflow:2019-03-05 02:20:27.742230: Step 180: Train accuracy = 100.0%\n",
      "INFO:tensorflow:2019-03-05 02:20:27.742431: Step 180: Cross entropy = 0.016413\n",
      "INFO:tensorflow:2019-03-05 02:20:27.785802: Step 180: Validation accuracy = 90.0% (N=100)\n",
      "INFO:tensorflow:2019-03-05 02:20:28.259509: Step 190: Train accuracy = 100.0%\n",
      "INFO:tensorflow:2019-03-05 02:20:28.259705: Step 190: Cross entropy = 0.010560\n",
      "INFO:tensorflow:2019-03-05 02:20:28.305253: Step 190: Validation accuracy = 94.0% (N=100)\n",
      "INFO:tensorflow:2019-03-05 02:20:28.799596: Step 200: Train accuracy = 100.0%\n",
      "INFO:tensorflow:2019-03-05 02:20:28.799793: Step 200: Cross entropy = 0.010475\n",
      "INFO:tensorflow:2019-03-05 02:20:28.852659: Step 200: Validation accuracy = 95.0% (N=100)\n",
      "INFO:tensorflow:2019-03-05 02:20:29.324383: Step 210: Train accuracy = 100.0%\n",
      "INFO:tensorflow:2019-03-05 02:20:29.324568: Step 210: Cross entropy = 0.010986\n",
      "INFO:tensorflow:2019-03-05 02:20:29.378027: Step 210: Validation accuracy = 97.0% (N=100)\n",
      "INFO:tensorflow:2019-03-05 02:20:29.860463: Step 220: Train accuracy = 100.0%\n",
      "INFO:tensorflow:2019-03-05 02:20:29.860663: Step 220: Cross entropy = 0.006218\n",
      "INFO:tensorflow:2019-03-05 02:20:29.910179: Step 220: Validation accuracy = 95.0% (N=100)\n",
      "INFO:tensorflow:2019-03-05 02:20:30.374092: Step 230: Train accuracy = 100.0%\n",
      "INFO:tensorflow:2019-03-05 02:20:30.374300: Step 230: Cross entropy = 0.009228\n",
      "INFO:tensorflow:2019-03-05 02:20:30.418363: Step 230: Validation accuracy = 91.0% (N=100)\n",
      "INFO:tensorflow:2019-03-05 02:20:30.876077: Step 240: Train accuracy = 100.0%\n",
      "INFO:tensorflow:2019-03-05 02:20:30.876270: Step 240: Cross entropy = 0.007762\n",
      "INFO:tensorflow:2019-03-05 02:20:30.917702: Step 240: Validation accuracy = 89.0% (N=100)\n",
      "INFO:tensorflow:2019-03-05 02:20:31.388534: Step 250: Train accuracy = 100.0%\n",
      "INFO:tensorflow:2019-03-05 02:20:31.388727: Step 250: Cross entropy = 0.010840\n",
      "INFO:tensorflow:2019-03-05 02:20:31.438169: Step 250: Validation accuracy = 96.0% (N=100)\n",
      "INFO:tensorflow:2019-03-05 02:20:31.901423: Step 260: Train accuracy = 100.0%\n",
      "INFO:tensorflow:2019-03-05 02:20:31.901603: Step 260: Cross entropy = 0.006181\n",
      "INFO:tensorflow:2019-03-05 02:20:31.946062: Step 260: Validation accuracy = 94.0% (N=100)\n",
      "INFO:tensorflow:2019-03-05 02:20:32.475061: Step 270: Train accuracy = 100.0%\n",
      "INFO:tensorflow:2019-03-05 02:20:32.475247: Step 270: Cross entropy = 0.007254\n",
      "INFO:tensorflow:2019-03-05 02:20:32.517516: Step 270: Validation accuracy = 96.0% (N=100)\n",
      "INFO:tensorflow:2019-03-05 02:20:32.980804: Step 280: Train accuracy = 100.0%\n",
      "INFO:tensorflow:2019-03-05 02:20:32.981023: Step 280: Cross entropy = 0.006312\n",
      "INFO:tensorflow:2019-03-05 02:20:33.022511: Step 280: Validation accuracy = 96.0% (N=100)\n",
      "INFO:tensorflow:2019-03-05 02:20:33.482807: Step 290: Train accuracy = 100.0%\n",
      "INFO:tensorflow:2019-03-05 02:20:33.483030: Step 290: Cross entropy = 0.006697\n",
      "INFO:tensorflow:2019-03-05 02:20:33.530731: Step 290: Validation accuracy = 94.0% (N=100)\n",
      "INFO:tensorflow:2019-03-05 02:20:33.982736: Step 300: Train accuracy = 100.0%\n",
      "INFO:tensorflow:2019-03-05 02:20:33.982959: Step 300: Cross entropy = 0.008123\n",
      "INFO:tensorflow:2019-03-05 02:20:34.023812: Step 300: Validation accuracy = 97.0% (N=100)\n",
      "INFO:tensorflow:2019-03-05 02:20:34.487450: Step 310: Train accuracy = 100.0%\n",
      "INFO:tensorflow:2019-03-05 02:20:34.487643: Step 310: Cross entropy = 0.006133\n",
      "INFO:tensorflow:2019-03-05 02:20:34.532308: Step 310: Validation accuracy = 98.0% (N=100)\n",
      "INFO:tensorflow:2019-03-05 02:20:34.981755: Step 320: Train accuracy = 100.0%\n",
      "INFO:tensorflow:2019-03-05 02:20:34.981976: Step 320: Cross entropy = 0.006749\n",
      "INFO:tensorflow:2019-03-05 02:20:35.022899: Step 320: Validation accuracy = 94.0% (N=100)\n",
      "INFO:tensorflow:2019-03-05 02:20:35.478278: Step 330: Train accuracy = 100.0%\n",
      "INFO:tensorflow:2019-03-05 02:20:35.478526: Step 330: Cross entropy = 0.005970\n",
      "INFO:tensorflow:2019-03-05 02:20:35.542240: Step 330: Validation accuracy = 96.0% (N=100)\n",
      "INFO:tensorflow:2019-03-05 02:20:36.036958: Step 340: Train accuracy = 100.0%\n",
      "INFO:tensorflow:2019-03-05 02:20:36.037150: Step 340: Cross entropy = 0.004608\n",
      "INFO:tensorflow:2019-03-05 02:20:36.078098: Step 340: Validation accuracy = 96.0% (N=100)\n",
      "INFO:tensorflow:2019-03-05 02:20:36.611231: Step 350: Train accuracy = 100.0%\n",
      "INFO:tensorflow:2019-03-05 02:20:36.611431: Step 350: Cross entropy = 0.006756\n",
      "INFO:tensorflow:2019-03-05 02:20:36.665125: Step 350: Validation accuracy = 92.0% (N=100)\n",
      "INFO:tensorflow:2019-03-05 02:20:37.181426: Step 360: Train accuracy = 100.0%\n",
      "INFO:tensorflow:2019-03-05 02:20:37.181676: Step 360: Cross entropy = 0.007210\n",
      "INFO:tensorflow:2019-03-05 02:20:37.223566: Step 360: Validation accuracy = 96.0% (N=100)\n",
      "INFO:tensorflow:2019-03-05 02:20:37.760047: Step 370: Train accuracy = 100.0%\n",
      "INFO:tensorflow:2019-03-05 02:20:37.760284: Step 370: Cross entropy = 0.006874\n",
      "INFO:tensorflow:2019-03-05 02:20:37.805402: Step 370: Validation accuracy = 97.0% (N=100)\n",
      "INFO:tensorflow:2019-03-05 02:20:38.252559: Step 380: Train accuracy = 100.0%\n",
      "INFO:tensorflow:2019-03-05 02:20:38.252757: Step 380: Cross entropy = 0.005244\n",
      "INFO:tensorflow:2019-03-05 02:20:38.311491: Step 380: Validation accuracy = 99.0% (N=100)\n",
      "INFO:tensorflow:2019-03-05 02:20:38.796665: Step 390: Train accuracy = 100.0%\n",
      "INFO:tensorflow:2019-03-05 02:20:38.796875: Step 390: Cross entropy = 0.004325\n",
      "INFO:tensorflow:2019-03-05 02:20:38.854774: Step 390: Validation accuracy = 95.0% (N=100)\n",
      "INFO:tensorflow:2019-03-05 02:20:39.379072: Step 400: Train accuracy = 100.0%\n",
      "INFO:tensorflow:2019-03-05 02:20:39.379267: Step 400: Cross entropy = 0.006429\n",
      "INFO:tensorflow:2019-03-05 02:20:39.421632: Step 400: Validation accuracy = 97.0% (N=100)\n",
      "INFO:tensorflow:2019-03-05 02:20:39.881168: Step 410: Train accuracy = 100.0%\n",
      "INFO:tensorflow:2019-03-05 02:20:39.881354: Step 410: Cross entropy = 0.004262\n",
      "INFO:tensorflow:2019-03-05 02:20:39.926213: Step 410: Validation accuracy = 96.0% (N=100)\n",
      "INFO:tensorflow:2019-03-05 02:20:40.487086: Step 420: Train accuracy = 100.0%\n",
      "INFO:tensorflow:2019-03-05 02:20:40.487283: Step 420: Cross entropy = 0.005862\n",
      "INFO:tensorflow:2019-03-05 02:20:40.537262: Step 420: Validation accuracy = 89.0% (N=100)\n",
      "INFO:tensorflow:2019-03-05 02:20:40.988856: Step 430: Train accuracy = 100.0%\n",
      "INFO:tensorflow:2019-03-05 02:20:40.989057: Step 430: Cross entropy = 0.003346\n",
      "INFO:tensorflow:2019-03-05 02:20:41.040100: Step 430: Validation accuracy = 93.0% (N=100)\n",
      "INFO:tensorflow:2019-03-05 02:20:41.510869: Step 440: Train accuracy = 100.0%\n",
      "INFO:tensorflow:2019-03-05 02:20:41.511057: Step 440: Cross entropy = 0.005662\n",
      "INFO:tensorflow:2019-03-05 02:20:41.559301: Step 440: Validation accuracy = 95.0% (N=100)\n",
      "INFO:tensorflow:2019-03-05 02:20:42.017249: Step 450: Train accuracy = 100.0%\n",
      "INFO:tensorflow:2019-03-05 02:20:42.017445: Step 450: Cross entropy = 0.005717\n",
      "INFO:tensorflow:2019-03-05 02:20:42.061972: Step 450: Validation accuracy = 90.0% (N=100)\n",
      "INFO:tensorflow:2019-03-05 02:20:42.516888: Step 460: Train accuracy = 100.0%\n",
      "INFO:tensorflow:2019-03-05 02:20:42.517074: Step 460: Cross entropy = 0.003387\n",
      "INFO:tensorflow:2019-03-05 02:20:42.564685: Step 460: Validation accuracy = 92.0% (N=100)\n",
      "INFO:tensorflow:2019-03-05 02:20:43.082424: Step 470: Train accuracy = 100.0%\n",
      "INFO:tensorflow:2019-03-05 02:20:43.082609: Step 470: Cross entropy = 0.005596\n",
      "INFO:tensorflow:2019-03-05 02:20:43.125006: Step 470: Validation accuracy = 95.0% (N=100)\n",
      "INFO:tensorflow:2019-03-05 02:20:43.604023: Step 480: Train accuracy = 100.0%\n",
      "INFO:tensorflow:2019-03-05 02:20:43.604235: Step 480: Cross entropy = 0.005673\n",
      "INFO:tensorflow:2019-03-05 02:20:43.649428: Step 480: Validation accuracy = 94.0% (N=100)\n",
      "INFO:tensorflow:2019-03-05 02:20:44.149201: Step 490: Train accuracy = 100.0%\n",
      "INFO:tensorflow:2019-03-05 02:20:44.149511: Step 490: Cross entropy = 0.004876\n",
      "INFO:tensorflow:2019-03-05 02:20:44.199658: Step 490: Validation accuracy = 96.0% (N=100)\n",
      "INFO:tensorflow:2019-03-05 02:20:44.637351: Step 499: Train accuracy = 100.0%\n",
      "INFO:tensorflow:2019-03-05 02:20:44.637551: Step 499: Cross entropy = 0.005656\n",
      "INFO:tensorflow:2019-03-05 02:20:44.679909: Step 499: Validation accuracy = 95.0% (N=100)\n",
      "INFO:tensorflow:Final test accuracy = 90.9% (N=44)\n",
      "INFO:tensorflow:Froze 2 variables.\n",
      "INFO:tensorflow:Converted 2 variables to const ops.\n"
     ]
    }
   ],
   "source": [
    "%%bash\n",
    "IMAGE_SIZE=224\n",
    "ARCHITECTURE=\"mobilenet_0.50_${IMAGE_SIZE}\"\n",
    "\n",
    "python -m scripts.retrain \\\n",
    "  --bottleneck_dir=tf_files/bottlenecks \\\n",
    "  --how_many_training_steps=500 \\\n",
    "  --model_dir=tf_files/models/ \\\n",
    "  --summaries_dir=tf_files/training_summaries/\"${ARCHITECTURE}\" \\\n",
    "  --output_graph=tf_files/tribune_graph.pb \\\n",
    "  --output_labels=tf_files/tribune_labels.txt \\\n",
    "  --architecture=\"${ARCHITECTURE}\" \\\n",
    "  --image_dir=tf_files/tribune"
   ]
  },
  {
   "cell_type": "markdown",
   "metadata": {},
   "source": [
    "## Test the trained model\n",
    "\n",
    "First let's test against the training set."
   ]
  },
  {
   "cell_type": "code",
   "execution_count": 7,
   "metadata": {},
   "outputs": [],
   "source": [
    "# Make a list of all the test images\n",
    "import os\n",
    "import random\n",
    "from IPython.display import display, HTML\n",
    "imgs = []\n",
    "data_dir = 'tf_files/tribune/'\n",
    "for img_dir in [d for d in os.listdir(data_dir) if os.path.isdir(os.path.join(data_dir, d))]:\n",
    "    for img in [i for i in os.listdir(os.path.join(data_dir, img_dir)) if i[-4:] == '.jpg']:\n",
    "        imgs.append(os.path.join(data_dir, img_dir, img))    "
   ]
  },
  {
   "cell_type": "code",
   "execution_count": 39,
   "metadata": {},
   "outputs": [
    {
     "data": {
      "text/html": [
       "<img src=\"tensorflow-for-poets-2/tf_files/tribune/earthworks/ahj085.jpg\"><br>tf_files/tribune/earthworks/ahj085.jpg"
      ],
      "text/plain": [
       "<IPython.core.display.HTML object>"
      ]
     },
     "metadata": {},
     "output_type": "display_data"
    }
   ],
   "source": [
    "# Choose one image at random\n",
    "img = random.sample(imgs, 1)[0]\n",
    "display(HTML('<img src=\"tensorflow-for-poets-2/{0}\"><br>{0}'.format(img)))"
   ]
  },
  {
   "cell_type": "code",
   "execution_count": 40,
   "metadata": {},
   "outputs": [
    {
     "name": "stdout",
     "output_type": "stream",
     "text": [
      "2019-03-05 02:21:05.395653: I tensorflow/core/platform/cpu_feature_guard.cc:141] Your CPU supports instructions that this TensorFlow binary was not compiled to use: AVX2 FMA\n",
      "\n",
      "Evaluation time (1-image): 1.816s\n",
      "\n",
      "earthworks (score=0.63679)\n",
      "nature reserve (score=0.36291)\n",
      "protests (score=0.00030)\n",
      "portraits (score=0.00000)\n"
     ]
    }
   ],
   "source": [
    "!python -m scripts.label_image --graph=tf_files/tribune_graph.pb --labels=tf_files/tribune_labels.txt --image=$img"
   ]
  },
  {
   "cell_type": "markdown",
   "metadata": {},
   "source": [
    "## Test against a randomly selected image from the complete collection\n",
    "\n",
    "Let's see how our model goes against images it's never seen before..."
   ]
  },
  {
   "cell_type": "code",
   "execution_count": 10,
   "metadata": {},
   "outputs": [],
   "source": [
    "# Load Tribune images data\n",
    "import pandas as pd\n",
    "df = pd.read_csv('https://raw.githubusercontent.com/GLAM-Workbench/ozglam-data-records-of-resistance/master/data/images.csv')"
   ]
  },
  {
   "cell_type": "code",
   "execution_count": 11,
   "metadata": {},
   "outputs": [],
   "source": [
    "# Set up a directory for test images\n",
    "test_dir = os.path.join('tf_files', 'tribune_tests')\n",
    "os.makedirs(test_dir, exist_ok=True)\n",
    "images = df['images']"
   ]
  },
  {
   "cell_type": "code",
   "execution_count": 12,
   "metadata": {},
   "outputs": [
    {
     "data": {
      "text/html": [
       "<img src=\"tensorflow-for-poets-2/tf_files/tribune_tests/FL4480194-500.jpg\"><br>tf_files/tribune_tests/FL4480194-500.jpg"
      ],
      "text/plain": [
       "<IPython.core.display.HTML object>"
      ]
     },
     "metadata": {},
     "output_type": "display_data"
    }
   ],
   "source": [
    "# get a random image\n",
    "img = images.sample(1).iloc[0]\n",
    "img_url = 'https://s3-ap-southeast-2.amazonaws.com/wraggetribune/images/500/{0}-500.jpg'.format(img)\n",
    "filename = os.path.join(test_dir, '{}-500.jpg'.format(img))\n",
    "response = requests.get(img_url, stream=True)\n",
    "with open(filename, 'wb') as fd:\n",
    "    for chunk in response.iter_content(chunk_size=128):\n",
    "        fd.write(chunk)\n",
    "display(HTML('<img src=\"tensorflow-for-poets-2/{0}\"><br>{0}'.format(filename)))"
   ]
  },
  {
   "cell_type": "code",
   "execution_count": 43,
   "metadata": {},
   "outputs": [
    {
     "data": {
      "text/html": [
       "<img src=\"tensorflow-for-poets-2/tf_files/tribune_tests/luskville.png\">"
      ],
      "text/plain": [
       "<IPython.core.display.HTML object>"
      ]
     },
     "metadata": {},
     "output_type": "display_data"
    }
   ],
   "source": [
    "display(HTML('<img src=\"tensorflow-for-poets-2/tf_files/tribune_tests/luskville.png\">'))\n"
   ]
  },
  {
   "cell_type": "code",
   "execution_count": 44,
   "metadata": {},
   "outputs": [
    {
     "name": "stdout",
     "output_type": "stream",
     "text": [
      "2019-03-05 02:23:44.905957: I tensorflow/core/platform/cpu_feature_guard.cc:141] Your CPU supports instructions that this TensorFlow binary was not compiled to use: AVX2 FMA\n",
      "\n",
      "Evaluation time (1-image): 1.760s\n",
      "\n",
      "nature reserve (score=0.99554)\n",
      "earthworks (score=0.00396)\n",
      "protests (score=0.00050)\n",
      "portraits (score=0.00001)\n"
     ]
    }
   ],
   "source": [
    "!python -m scripts.label_image --graph=tf_files/tribune_graph.pb --labels=tf_files/tribune_labels.txt --image=\"/home/jovyan/tensorflow-for-poets-2/tf_files/tribune_tests/luskville.png\""
   ]
  },
  {
   "cell_type": "code",
   "execution_count": null,
   "metadata": {},
   "outputs": [],
   "source": []
  }
 ],
 "metadata": {
  "kernelspec": {
   "display_name": "Python 3",
   "language": "python",
   "name": "python3"
  },
  "language_info": {
   "codemirror_mode": {
    "name": "ipython",
    "version": 3
   },
   "file_extension": ".py",
   "mimetype": "text/x-python",
   "name": "python",
   "nbconvert_exporter": "python",
   "pygments_lexer": "ipython3",
   "version": "3.6.7"
  }
 },
 "nbformat": 4,
 "nbformat_minor": 2
}
